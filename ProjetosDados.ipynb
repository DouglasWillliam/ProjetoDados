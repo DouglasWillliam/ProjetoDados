{
 "cells": [
  {
   "cell_type": "code",
   "execution_count": 1,
   "metadata": {
    "id": "3OGpCJ-eR45g"
   },
   "outputs": [],
   "source": [
    "import pandas as pd\n",
    "import numpy as np\n",
    "import matplotlib.pyplot as plt\n",
    "import seaborn as sns"
   ]
  },
  {
   "cell_type": "code",
   "execution_count": 2,
   "metadata": {
    "id": "ggsSWKZ3SB5p"
   },
   "outputs": [],
   "source": [
    "df=pd.read_csv(\"Ecommerce_DBS.csv\")"
   ]
  },
  {
   "cell_type": "markdown",
   "metadata": {},
   "source": [
    " ###          Limpando e tratando a base de dados"
   ]
  },
  {
   "cell_type": "code",
   "execution_count": 3,
   "metadata": {
    "colab": {
     "base_uri": "https://localhost:8080/"
    },
    "id": "Zu-XBY2xWMlU",
    "outputId": "5cb81c70-1f6b-4c11-c11b-a4227109301f"
   },
   "outputs": [
    {
     "data": {
      "text/plain": [
       "Customer ID              0\n",
       "Purchase Date            0\n",
       "Product Category         0\n",
       "Product Price            0\n",
       "Quantity                 0\n",
       "Total Purchase Amount    0\n",
       "NPS                      0\n",
       "Customer Age             0\n",
       "Gender                   0\n",
       "Source                   0\n",
       "Country                  0\n",
       "State                    0\n",
       "Latitude                 0\n",
       "Longituide               0\n",
       "dtype: int64"
      ]
     },
     "execution_count": 3,
     "metadata": {},
     "output_type": "execute_result"
    }
   ],
   "source": [
    "df.isnull().sum()"
   ]
  },
  {
   "cell_type": "code",
   "execution_count": 4,
   "metadata": {
    "colab": {
     "base_uri": "https://localhost:8080/"
    },
    "id": "oC46fj4bvGu-",
    "outputId": "5bb29e25-58f7-4a93-fd22-2c9ac80f28c2",
    "scrolled": true
   },
   "outputs": [
    {
     "data": {
      "text/plain": [
       "0"
      ]
     },
     "execution_count": 4,
     "metadata": {},
     "output_type": "execute_result"
    }
   ],
   "source": [
    "df.duplicated().sum()"
   ]
  },
  {
   "cell_type": "code",
   "execution_count": 5,
   "metadata": {
    "colab": {
     "base_uri": "https://localhost:8080/"
    },
    "id": "HDfl8iwZhO_I",
    "outputId": "03aefb96-d9b6-4218-e9a4-7f99d4326018"
   },
   "outputs": [
    {
     "name": "stdout",
     "output_type": "stream",
     "text": [
      "<class 'pandas.core.frame.DataFrame'>\n",
      "RangeIndex: 250000 entries, 0 to 249999\n",
      "Data columns (total 14 columns):\n",
      " #   Column                 Non-Null Count   Dtype  \n",
      "---  ------                 --------------   -----  \n",
      " 0   Customer ID            250000 non-null  int64  \n",
      " 1   Purchase Date          250000 non-null  object \n",
      " 2   Product Category       250000 non-null  object \n",
      " 3   Product Price          250000 non-null  int64  \n",
      " 4   Quantity               250000 non-null  int64  \n",
      " 5   Total Purchase Amount  250000 non-null  int64  \n",
      " 6   NPS                    250000 non-null  int64  \n",
      " 7   Customer Age           250000 non-null  int64  \n",
      " 8   Gender                 250000 non-null  object \n",
      " 9   Source                 250000 non-null  object \n",
      " 10  Country                250000 non-null  object \n",
      " 11  State                  250000 non-null  object \n",
      " 12  Latitude               250000 non-null  float64\n",
      " 13  Longituide             250000 non-null  float64\n",
      "dtypes: float64(2), int64(6), object(6)\n",
      "memory usage: 26.7+ MB\n"
     ]
    }
   ],
   "source": [
    "df.info()"
   ]
  },
  {
   "cell_type": "code",
   "execution_count": 6,
   "metadata": {
    "id": "98h68oUhj197"
   },
   "outputs": [],
   "source": [
    "df = df.drop(['Latitude', 'Longituide'], axis=1)"
   ]
  },
  {
   "cell_type": "code",
   "execution_count": 7,
   "metadata": {
    "colab": {
     "base_uri": "https://localhost:8080/"
    },
    "id": "L2Tyym9VqXRj",
    "outputId": "06094323-4b48-4f0b-a65f-593308e75ad1"
   },
   "outputs": [
    {
     "name": "stdout",
     "output_type": "stream",
     "text": [
      "<class 'pandas.core.frame.DataFrame'>\n",
      "Int64Index: 250000 entries, 78938 to 208549\n",
      "Data columns (total 12 columns):\n",
      " #   Column                 Non-Null Count   Dtype         \n",
      "---  ------                 --------------   -----         \n",
      " 0   Customer ID            250000 non-null  int64         \n",
      " 1   Purchase Date          250000 non-null  datetime64[ns]\n",
      " 2   Product Category       250000 non-null  object        \n",
      " 3   Product Price          250000 non-null  int64         \n",
      " 4   Quantity               250000 non-null  int64         \n",
      " 5   Total Purchase Amount  250000 non-null  int64         \n",
      " 6   NPS                    250000 non-null  int64         \n",
      " 7   Customer Age           250000 non-null  int64         \n",
      " 8   Gender                 250000 non-null  object        \n",
      " 9   Source                 250000 non-null  object        \n",
      " 10  Country                250000 non-null  object        \n",
      " 11  State                  250000 non-null  object        \n",
      "dtypes: datetime64[ns](1), int64(6), object(5)\n",
      "memory usage: 24.8+ MB\n"
     ]
    }
   ],
   "source": [
    "df['Purchase Date'] = pd.to_datetime(df['Purchase Date'], format='%d/%m/%Y', errors='coerce')\n",
    "df= df.sort_values(by='Purchase Date')\n",
    "df.info()"
   ]
  },
  {
   "cell_type": "code",
   "execution_count": 8,
   "metadata": {
    "colab": {
     "base_uri": "https://localhost:8080/"
    },
    "id": "x3NDkgfU7rLi",
    "outputId": "6d409976-593c-469b-97c3-c0b202d7ec9d"
   },
   "outputs": [
    {
     "name": "stdout",
     "output_type": "stream",
     "text": [
      "['Instagram Campaign' 'FaceBook Campaign' 'SEM' 'Organic Search']\n"
     ]
    }
   ],
   "source": [
    "# Corrigindo o erro de ortografia na coluna Source\n",
    "df['Source'] = df['Source'].str.replace('Campign', 'Campaign')\n",
    "df['Source'] = df['Source'].str.replace('campaign', 'Campaign')\n",
    "print(df['Source'].unique())"
   ]
  },
  {
   "cell_type": "code",
   "execution_count": 9,
   "metadata": {
    "colab": {
     "base_uri": "https://localhost:8080/"
    },
    "id": "fyXn7m1L035U",
    "outputId": "327cdec7-2d04-46a9-8a25-4b3fe209c51b"
   },
   "outputs": [
    {
     "name": "stdout",
     "output_type": "stream",
     "text": [
      "        Total Purchase Amount  Calculated Total\n",
      "78938                     986               986\n",
      "146177                    681               681\n",
      "139296                     96                96\n",
      "92092                     402               402\n",
      "114630                     69                69\n",
      "...                       ...               ...\n",
      "77643                     935               935\n",
      "144603                    360               360\n",
      "169750                    828               828\n",
      "155693                    196               196\n",
      "208549                   1092              1092\n",
      "\n",
      "[250000 rows x 2 columns]\n"
     ]
    }
   ],
   "source": [
    "# Conferindo valores\n",
    "df['Calculated Total'] = df['Product Price'] * df['Quantity']\n",
    "\n",
    "valores_incorretos = df[df['Total Purchase Amount'] != df['Calculated Total']]\n",
    "\n",
    "df.loc[df['Total Purchase Amount'] != df['Calculated Total'], 'Total Purchase Amount'] = df['Calculated Total']\n",
    "\n",
    "print(df[['Total Purchase Amount', 'Calculated Total']])"
   ]
  },
  {
   "cell_type": "code",
   "execution_count": 10,
   "metadata": {},
   "outputs": [
    {
     "data": {
      "text/html": [
       "<div>\n",
       "<style scoped>\n",
       "    .dataframe tbody tr th:only-of-type {\n",
       "        vertical-align: middle;\n",
       "    }\n",
       "\n",
       "    .dataframe tbody tr th {\n",
       "        vertical-align: top;\n",
       "    }\n",
       "\n",
       "    .dataframe thead th {\n",
       "        text-align: right;\n",
       "    }\n",
       "</style>\n",
       "<table border=\"1\" class=\"dataframe\">\n",
       "  <thead>\n",
       "    <tr style=\"text-align: right;\">\n",
       "      <th></th>\n",
       "      <th>Customer ID</th>\n",
       "      <th>Purchase Date</th>\n",
       "      <th>Product Category</th>\n",
       "      <th>Product Price</th>\n",
       "      <th>Quantity</th>\n",
       "      <th>Total Purchase Amount</th>\n",
       "      <th>NPS</th>\n",
       "      <th>Customer Age</th>\n",
       "      <th>Gender</th>\n",
       "      <th>Source</th>\n",
       "      <th>Country</th>\n",
       "      <th>State</th>\n",
       "      <th>Calculated Total</th>\n",
       "    </tr>\n",
       "  </thead>\n",
       "  <tbody>\n",
       "    <tr>\n",
       "      <th>78938</th>\n",
       "      <td>3420</td>\n",
       "      <td>2020-01-01</td>\n",
       "      <td>Electronics</td>\n",
       "      <td>493</td>\n",
       "      <td>2</td>\n",
       "      <td>986</td>\n",
       "      <td>1</td>\n",
       "      <td>68</td>\n",
       "      <td>Female</td>\n",
       "      <td>Instagram Campaign</td>\n",
       "      <td>United States</td>\n",
       "      <td>Kansas</td>\n",
       "      <td>986</td>\n",
       "    </tr>\n",
       "    <tr>\n",
       "      <th>146177</th>\n",
       "      <td>36672</td>\n",
       "      <td>2020-01-01</td>\n",
       "      <td>Clothing</td>\n",
       "      <td>227</td>\n",
       "      <td>3</td>\n",
       "      <td>681</td>\n",
       "      <td>4</td>\n",
       "      <td>34</td>\n",
       "      <td>Male</td>\n",
       "      <td>FaceBook Campaign</td>\n",
       "      <td>United States</td>\n",
       "      <td>New York</td>\n",
       "      <td>681</td>\n",
       "    </tr>\n",
       "    <tr>\n",
       "      <th>139296</th>\n",
       "      <td>23134</td>\n",
       "      <td>2020-01-01</td>\n",
       "      <td>Electronics</td>\n",
       "      <td>24</td>\n",
       "      <td>4</td>\n",
       "      <td>96</td>\n",
       "      <td>10</td>\n",
       "      <td>44</td>\n",
       "      <td>Female</td>\n",
       "      <td>FaceBook Campaign</td>\n",
       "      <td>Canada</td>\n",
       "      <td>New Brunswick</td>\n",
       "      <td>96</td>\n",
       "    </tr>\n",
       "    <tr>\n",
       "      <th>92092</th>\n",
       "      <td>4003</td>\n",
       "      <td>2020-01-01</td>\n",
       "      <td>Electronics</td>\n",
       "      <td>201</td>\n",
       "      <td>2</td>\n",
       "      <td>402</td>\n",
       "      <td>0</td>\n",
       "      <td>64</td>\n",
       "      <td>Female</td>\n",
       "      <td>SEM</td>\n",
       "      <td>United States</td>\n",
       "      <td>California</td>\n",
       "      <td>402</td>\n",
       "    </tr>\n",
       "    <tr>\n",
       "      <th>114630</th>\n",
       "      <td>23282</td>\n",
       "      <td>2020-01-01</td>\n",
       "      <td>Electronics</td>\n",
       "      <td>23</td>\n",
       "      <td>3</td>\n",
       "      <td>69</td>\n",
       "      <td>6</td>\n",
       "      <td>32</td>\n",
       "      <td>Female</td>\n",
       "      <td>SEM</td>\n",
       "      <td>United States</td>\n",
       "      <td>Louisiana</td>\n",
       "      <td>69</td>\n",
       "    </tr>\n",
       "    <tr>\n",
       "      <th>...</th>\n",
       "      <td>...</td>\n",
       "      <td>...</td>\n",
       "      <td>...</td>\n",
       "      <td>...</td>\n",
       "      <td>...</td>\n",
       "      <td>...</td>\n",
       "      <td>...</td>\n",
       "      <td>...</td>\n",
       "      <td>...</td>\n",
       "      <td>...</td>\n",
       "      <td>...</td>\n",
       "      <td>...</td>\n",
       "      <td>...</td>\n",
       "    </tr>\n",
       "    <tr>\n",
       "      <th>77643</th>\n",
       "      <td>40474</td>\n",
       "      <td>2023-09-15</td>\n",
       "      <td>Home</td>\n",
       "      <td>187</td>\n",
       "      <td>5</td>\n",
       "      <td>935</td>\n",
       "      <td>1</td>\n",
       "      <td>32</td>\n",
       "      <td>Female</td>\n",
       "      <td>FaceBook Campaign</td>\n",
       "      <td>United States</td>\n",
       "      <td>New York</td>\n",
       "      <td>935</td>\n",
       "    </tr>\n",
       "    <tr>\n",
       "      <th>144603</th>\n",
       "      <td>16696</td>\n",
       "      <td>2023-09-15</td>\n",
       "      <td>Clothing</td>\n",
       "      <td>72</td>\n",
       "      <td>5</td>\n",
       "      <td>360</td>\n",
       "      <td>6</td>\n",
       "      <td>41</td>\n",
       "      <td>Male</td>\n",
       "      <td>SEM</td>\n",
       "      <td>United States</td>\n",
       "      <td>Indiana</td>\n",
       "      <td>360</td>\n",
       "    </tr>\n",
       "    <tr>\n",
       "      <th>169750</th>\n",
       "      <td>45682</td>\n",
       "      <td>2023-09-15</td>\n",
       "      <td>Home</td>\n",
       "      <td>276</td>\n",
       "      <td>3</td>\n",
       "      <td>828</td>\n",
       "      <td>10</td>\n",
       "      <td>43</td>\n",
       "      <td>Female</td>\n",
       "      <td>SEM</td>\n",
       "      <td>Canada</td>\n",
       "      <td>Nova</td>\n",
       "      <td>828</td>\n",
       "    </tr>\n",
       "    <tr>\n",
       "      <th>155693</th>\n",
       "      <td>14082</td>\n",
       "      <td>2023-09-15</td>\n",
       "      <td>Electronics</td>\n",
       "      <td>196</td>\n",
       "      <td>1</td>\n",
       "      <td>196</td>\n",
       "      <td>9</td>\n",
       "      <td>35</td>\n",
       "      <td>Male</td>\n",
       "      <td>Organic Search</td>\n",
       "      <td>United States</td>\n",
       "      <td>New York</td>\n",
       "      <td>196</td>\n",
       "    </tr>\n",
       "    <tr>\n",
       "      <th>208549</th>\n",
       "      <td>17799</td>\n",
       "      <td>2023-09-15</td>\n",
       "      <td>Electronics</td>\n",
       "      <td>273</td>\n",
       "      <td>4</td>\n",
       "      <td>1092</td>\n",
       "      <td>6</td>\n",
       "      <td>25</td>\n",
       "      <td>Female</td>\n",
       "      <td>FaceBook Campaign</td>\n",
       "      <td>Canada</td>\n",
       "      <td>Quebec</td>\n",
       "      <td>1092</td>\n",
       "    </tr>\n",
       "  </tbody>\n",
       "</table>\n",
       "<p>250000 rows × 13 columns</p>\n",
       "</div>"
      ],
      "text/plain": [
       "        Customer ID Purchase Date Product Category  Product Price  Quantity  \\\n",
       "78938          3420    2020-01-01      Electronics            493         2   \n",
       "146177        36672    2020-01-01         Clothing            227         3   \n",
       "139296        23134    2020-01-01      Electronics             24         4   \n",
       "92092          4003    2020-01-01      Electronics            201         2   \n",
       "114630        23282    2020-01-01      Electronics             23         3   \n",
       "...             ...           ...              ...            ...       ...   \n",
       "77643         40474    2023-09-15             Home            187         5   \n",
       "144603        16696    2023-09-15         Clothing             72         5   \n",
       "169750        45682    2023-09-15             Home            276         3   \n",
       "155693        14082    2023-09-15      Electronics            196         1   \n",
       "208549        17799    2023-09-15      Electronics            273         4   \n",
       "\n",
       "        Total Purchase Amount  NPS  Customer Age   Gender              Source  \\\n",
       "78938                     986    1             68  Female  Instagram Campaign   \n",
       "146177                    681    4             34    Male   FaceBook Campaign   \n",
       "139296                     96   10             44  Female   FaceBook Campaign   \n",
       "92092                     402    0             64  Female                 SEM   \n",
       "114630                     69    6             32  Female                 SEM   \n",
       "...                       ...  ...            ...     ...                 ...   \n",
       "77643                     935    1             32  Female   FaceBook Campaign   \n",
       "144603                    360    6             41    Male                 SEM   \n",
       "169750                    828   10             43  Female                 SEM   \n",
       "155693                    196    9             35    Male      Organic Search   \n",
       "208549                   1092    6             25  Female   FaceBook Campaign   \n",
       "\n",
       "              Country          State  Calculated Total  \n",
       "78938   United States         Kansas               986  \n",
       "146177  United States       New York               681  \n",
       "139296         Canada  New Brunswick                96  \n",
       "92092   United States     California               402  \n",
       "114630  United States      Louisiana                69  \n",
       "...               ...            ...               ...  \n",
       "77643   United States       New York               935  \n",
       "144603  United States        Indiana               360  \n",
       "169750         Canada           Nova               828  \n",
       "155693  United States       New York               196  \n",
       "208549         Canada         Quebec              1092  \n",
       "\n",
       "[250000 rows x 13 columns]"
      ]
     },
     "metadata": {},
     "output_type": "display_data"
    }
   ],
   "source": [
    "display(df)"
   ]
  },
  {
   "cell_type": "markdown",
   "metadata": {},
   "source": [
    "## Algumas considerações\n",
    "* HOME refere-se a produtos relacionados à casa ou ao lar. \n",
    "* SEM, ou \"Search Engine Marketing\", é uma estratégia de marketing digital usada para aumentar a visibilidade de um site nos resultados dos motores de busca."
   ]
  },
  {
   "cell_type": "markdown",
   "metadata": {},
   "source": [
    "## Fazendo e respondendo perguntas\n",
    "\n",
    "**Q1-Quais os produtos mais vendidos considerando os últimos 3 anos?**"
   ]
  },
  {
   "cell_type": "code",
   "execution_count": 11,
   "metadata": {
    "colab": {
     "base_uri": "https://localhost:8080/"
    },
    "id": "5FiInTiUwcSp",
    "outputId": "2164c23d-2e3f-4ee3-9773-292423cfaa13"
   },
   "outputs": [
    {
     "name": "stdout",
     "output_type": "stream",
     "text": [
      "Product Category\n",
      "Clothing       225322\n",
      "Books          223876\n",
      "Electronics    150828\n",
      "Home           149698\n",
      "Name: Quantity, dtype: int64\n"
     ]
    }
   ],
   "source": [
    "# Encontrando a data mais recente no DataFrame\n",
    "data_recente = df['Purchase Date'].max()\n",
    "mais_vendidos = df.groupby('Product Category')['Quantity'].sum().sort_values(ascending=False)\n",
    "print(mais_vendidos)"
   ]
  },
  {
   "cell_type": "code",
   "execution_count": 12,
   "metadata": {},
   "outputs": [
    {
     "data": {
      "image/png": "[encoded data removed]",
      "text/plain": [
       "<Figure size 720x432 with 1 Axes>"
      ]
     },
     "metadata": {
      "needs_background": "light"
     },
     "output_type": "display_data"
    }
   ],
   "source": [
    "# Configurações do gráfico\n",
    "plt.figure(figsize=(10, 6))\n",
    "bars = plt.bar(mais_vendidos.index,mais_vendidos.values, color='skyblue')\n",
    "\n",
    "# Adicionar rótulos de valor nas barras e pintar de verde a mais vendida\n",
    "max_value = mais_vendidos.max()\n",
    "for bar in bars:\n",
    "    yval = bar.get_height()\n",
    "    if yval == max_value:\n",
    "        bar.set_color('green')\n",
    "    plt.text(bar.get_x() + bar.get_width() / 2, yval, int(yval), ha='center', va='bottom')\n",
    "\n",
    "plt.title('Produtos Mais Vendidos',fontsize=16, fontweight='bold')\n",
    "plt.xlabel('Categoria do Produto')\n",
    "\n",
    "# Rotacionar rótulos do eixo x\n",
    "plt.xticks(rotation=45)\n",
    "\n",
    "# Remover linhas verticais e a borda do gráfico\n",
    "plt.gca().spines['top'].set_visible(False)\n",
    "plt.gca().spines['right'].set_visible(False)\n",
    "plt.gca().spines['left'].set_visible(False)\n",
    "plt.gca().get_yaxis().set_ticks_position('none')  \n",
    "plt.gca().yaxis.set_ticklabels([])  \n",
    "plt.gca().xaxis.grid(False) \n",
    "\n",
    "plt.tight_layout()\n",
    "plt.show()"
   ]
  },
  {
   "cell_type": "markdown",
   "metadata": {},
   "source": [
    "**Produto mais vendido de cada mês em 3 anos**"
   ]
  },
  {
   "cell_type": "code",
   "execution_count": 13,
   "metadata": {
    "colab": {
     "base_uri": "https://localhost:8080/"
    },
    "id": "Bj9Eg5zX3key",
    "outputId": "ae9a0ff6-32b1-451a-f712-584a12049470"
   },
   "outputs": [
    {
     "name": "stdout",
     "output_type": "stream",
     "text": [
      "    Year  Month Product Category  Quantity\n",
      "0   2020      1         Clothing      5320\n",
      "1   2020      2            Books      4786\n",
      "2   2020      3         Clothing      5161\n",
      "3   2020      4         Clothing      4953\n",
      "4   2020      5         Clothing      5219\n",
      "5   2020      6         Clothing      5079\n",
      "6   2020      7            Books      5200\n",
      "7   2020      8            Books      5306\n",
      "8   2020      9            Books      5097\n",
      "9   2020     10         Clothing      5175\n",
      "10  2020     11            Books      5112\n",
      "11  2020     12            Books      5382\n",
      "12  2021      1            Books      5257\n",
      "13  2021      2         Clothing      4729\n",
      "14  2021      3         Clothing      5123\n",
      "15  2021      4         Clothing      4923\n",
      "16  2021      5         Clothing      5385\n",
      "17  2021      6            Books      4926\n",
      "18  2021      7         Clothing      5002\n",
      "19  2021      8         Clothing      5070\n",
      "20  2021      9         Clothing      4754\n",
      "21  2021     10         Clothing      5418\n",
      "22  2021     11            Books      5059\n",
      "23  2021     12         Clothing      4940\n",
      "24  2022      1         Clothing      5215\n",
      "25  2022      2         Clothing      4737\n",
      "26  2022      3            Books      5383\n",
      "27  2022      4         Clothing      4957\n",
      "28  2022      5            Books      5168\n",
      "29  2022      6         Clothing      5016\n",
      "30  2022      7         Clothing      5196\n",
      "31  2022      8         Clothing      5374\n",
      "32  2022      9         Clothing      5132\n",
      "33  2022     10            Books      5192\n",
      "34  2022     11            Books      5124\n",
      "35  2022     12         Clothing      5202\n",
      "36  2023      1            Books      5220\n",
      "37  2023      2            Books      4992\n",
      "38  2023      3         Clothing      5268\n",
      "39  2023      4            Books      5265\n",
      "40  2023      5         Clothing      5206\n",
      "41  2023      6         Clothing      5012\n",
      "42  2023      7         Clothing      5243\n",
      "43  2023      8            Books      5385\n",
      "44  2023      9            Books      2491\n"
     ]
    }
   ],
   "source": [
    "# Adicionando colunas para ano e mês\n",
    "df['Year'] = df['Purchase Date'].dt.year\n",
    "df['Month'] = df['Purchase Date'].dt.month\n",
    "\n",
    "mais_vendidos_por_ano_mes = df.groupby(['Year', 'Month', 'Product Category'])['Quantity'].sum()\n",
    "\n",
    "mais_vendidos_por_ano_mes = mais_vendidos_por_ano_mes.reset_index().sort_values(by=['Year', 'Month', 'Quantity'], ascending=[True, True, False])\n",
    "\n",
    "produto_por_ano_mes = mais_vendidos_por_ano_mes.groupby(['Year', 'Month']).first().reset_index()\n",
    "\n",
    "print(produto_por_ano_mes[['Year', 'Month', 'Product Category', 'Quantity']])"
   ]
  },
  {
   "cell_type": "code",
   "execution_count": 14,
   "metadata": {},
   "outputs": [
    {
     "data": {
      "image/png": "[encoded data removed]",
      "text/plain": [
       "<Figure size 1008x576 with 1 Axes>"
      ]
     },
     "metadata": {
      "needs_background": "light"
     },
     "output_type": "display_data"
    },
    {
     "name": "stdout",
     "output_type": "stream",
     "text": [
      "A queda drástica nas vendas de livros deve-se ao fato da base de dados conter registros apenas até o dia 15 do último mês. Portanto, o gráfico é coerente com os resultados.\n"
     ]
    }
   ],
   "source": [
    "plt.figure(figsize=(14, 8))\n",
    "for category in produto_por_ano_mes['Product Category'].unique():\n",
    "    subset = produto_por_ano_mes[produto_por_ano_mes['Product Category'] == category]\n",
    "    plt.plot(subset['Year'].astype(str) + '-' + subset['Month'].astype(str), subset['Quantity'], marker='o', label=category)\n",
    "\n",
    "plt.title('Produtos Mais Vendidos por Ano e Mês (2020-2023)',fontsize=16, fontweight='bold')\n",
    "plt.xlabel('Ano-Mês')\n",
    "plt.ylabel('Quantidade Vendida')\n",
    "plt.legend(title='Categoria de Produto')\n",
    "plt.xticks(rotation=45)\n",
    "plt.grid(True)\n",
    "plt.tight_layout()\n",
    "\n",
    "\n",
    "plt.show()\n",
    "print(\"A queda drástica nas vendas de livros deve-se ao fato da base de dados conter registros apenas até o dia 15 do último mês. Portanto, o gráfico é coerente com os resultados.\")"
   ]
  },
  {
   "cell_type": "markdown",
   "metadata": {},
   "source": [
    "Os produtos mais vendidos em 3 anos são roupas e livros."
   ]
  },
  {
   "cell_type": "markdown",
   "metadata": {},
   "source": [
    "**Q2-Qual o produto mais caro e mais barato?**"
   ]
  },
  {
   "cell_type": "code",
   "execution_count": 15,
   "metadata": {
    "colab": {
     "base_uri": "https://localhost:8080/"
    },
    "id": "bwwCPnkxzQxj",
    "outputId": "8f38eca7-7a06-4438-8c53-779f9f27b3d2"
   },
   "outputs": [
    {
     "data": {
      "text/html": [
       "<div>\n",
       "<style scoped>\n",
       "    .dataframe tbody tr th:only-of-type {\n",
       "        vertical-align: middle;\n",
       "    }\n",
       "\n",
       "    .dataframe tbody tr th {\n",
       "        vertical-align: top;\n",
       "    }\n",
       "\n",
       "    .dataframe thead th {\n",
       "        text-align: right;\n",
       "    }\n",
       "</style>\n",
       "<table border=\"1\" class=\"dataframe\">\n",
       "  <thead>\n",
       "    <tr style=\"text-align: right;\">\n",
       "      <th></th>\n",
       "      <th>Customer ID</th>\n",
       "      <th>Purchase Date</th>\n",
       "      <th>Product Category</th>\n",
       "      <th>Product Price</th>\n",
       "      <th>Quantity</th>\n",
       "      <th>Total Purchase Amount</th>\n",
       "      <th>NPS</th>\n",
       "      <th>Customer Age</th>\n",
       "      <th>Gender</th>\n",
       "      <th>Source</th>\n",
       "      <th>Country</th>\n",
       "      <th>State</th>\n",
       "      <th>Calculated Total</th>\n",
       "      <th>Year</th>\n",
       "      <th>Month</th>\n",
       "    </tr>\n",
       "  </thead>\n",
       "  <tbody>\n",
       "    <tr>\n",
       "      <th>177488</th>\n",
       "      <td>40611</td>\n",
       "      <td>2020-01-03</td>\n",
       "      <td>Books</td>\n",
       "      <td>500</td>\n",
       "      <td>3</td>\n",
       "      <td>1500</td>\n",
       "      <td>8</td>\n",
       "      <td>48</td>\n",
       "      <td>Male</td>\n",
       "      <td>SEM</td>\n",
       "      <td>United States</td>\n",
       "      <td>Louisiana</td>\n",
       "      <td>1500</td>\n",
       "      <td>2020</td>\n",
       "      <td>1</td>\n",
       "    </tr>\n",
       "    <tr>\n",
       "      <th>165016</th>\n",
       "      <td>41449</td>\n",
       "      <td>2020-01-06</td>\n",
       "      <td>Home</td>\n",
       "      <td>500</td>\n",
       "      <td>1</td>\n",
       "      <td>500</td>\n",
       "      <td>9</td>\n",
       "      <td>22</td>\n",
       "      <td>Female</td>\n",
       "      <td>Organic Search</td>\n",
       "      <td>Canada</td>\n",
       "      <td>New Brunswick</td>\n",
       "      <td>500</td>\n",
       "      <td>2020</td>\n",
       "      <td>1</td>\n",
       "    </tr>\n",
       "    <tr>\n",
       "      <th>99606</th>\n",
       "      <td>12262</td>\n",
       "      <td>2020-01-21</td>\n",
       "      <td>Home</td>\n",
       "      <td>500</td>\n",
       "      <td>2</td>\n",
       "      <td>1000</td>\n",
       "      <td>2</td>\n",
       "      <td>42</td>\n",
       "      <td>Male</td>\n",
       "      <td>SEM</td>\n",
       "      <td>Canada</td>\n",
       "      <td>Ontario</td>\n",
       "      <td>1000</td>\n",
       "      <td>2020</td>\n",
       "      <td>1</td>\n",
       "    </tr>\n",
       "    <tr>\n",
       "      <th>144827</th>\n",
       "      <td>6353</td>\n",
       "      <td>2020-01-23</td>\n",
       "      <td>Clothing</td>\n",
       "      <td>500</td>\n",
       "      <td>3</td>\n",
       "      <td>1500</td>\n",
       "      <td>3</td>\n",
       "      <td>49</td>\n",
       "      <td>Female</td>\n",
       "      <td>SEM</td>\n",
       "      <td>United States</td>\n",
       "      <td>Alabama</td>\n",
       "      <td>1500</td>\n",
       "      <td>2020</td>\n",
       "      <td>1</td>\n",
       "    </tr>\n",
       "    <tr>\n",
       "      <th>159202</th>\n",
       "      <td>23593</td>\n",
       "      <td>2020-01-27</td>\n",
       "      <td>Electronics</td>\n",
       "      <td>500</td>\n",
       "      <td>2</td>\n",
       "      <td>1000</td>\n",
       "      <td>10</td>\n",
       "      <td>26</td>\n",
       "      <td>Female</td>\n",
       "      <td>FaceBook Campaign</td>\n",
       "      <td>Canada</td>\n",
       "      <td>British Columbia</td>\n",
       "      <td>1000</td>\n",
       "      <td>2020</td>\n",
       "      <td>1</td>\n",
       "    </tr>\n",
       "    <tr>\n",
       "      <th>...</th>\n",
       "      <td>...</td>\n",
       "      <td>...</td>\n",
       "      <td>...</td>\n",
       "      <td>...</td>\n",
       "      <td>...</td>\n",
       "      <td>...</td>\n",
       "      <td>...</td>\n",
       "      <td>...</td>\n",
       "      <td>...</td>\n",
       "      <td>...</td>\n",
       "      <td>...</td>\n",
       "      <td>...</td>\n",
       "      <td>...</td>\n",
       "      <td>...</td>\n",
       "      <td>...</td>\n",
       "    </tr>\n",
       "    <tr>\n",
       "      <th>150814</th>\n",
       "      <td>39031</td>\n",
       "      <td>2023-08-30</td>\n",
       "      <td>Books</td>\n",
       "      <td>500</td>\n",
       "      <td>1</td>\n",
       "      <td>500</td>\n",
       "      <td>5</td>\n",
       "      <td>56</td>\n",
       "      <td>Female</td>\n",
       "      <td>Instagram Campaign</td>\n",
       "      <td>United States</td>\n",
       "      <td>Georgia</td>\n",
       "      <td>500</td>\n",
       "      <td>2023</td>\n",
       "      <td>8</td>\n",
       "    </tr>\n",
       "    <tr>\n",
       "      <th>152849</th>\n",
       "      <td>17430</td>\n",
       "      <td>2023-09-04</td>\n",
       "      <td>Books</td>\n",
       "      <td>500</td>\n",
       "      <td>4</td>\n",
       "      <td>2000</td>\n",
       "      <td>9</td>\n",
       "      <td>67</td>\n",
       "      <td>Male</td>\n",
       "      <td>Organic Search</td>\n",
       "      <td>United States</td>\n",
       "      <td>Georgia</td>\n",
       "      <td>2000</td>\n",
       "      <td>2023</td>\n",
       "      <td>9</td>\n",
       "    </tr>\n",
       "    <tr>\n",
       "      <th>71706</th>\n",
       "      <td>44992</td>\n",
       "      <td>2023-09-08</td>\n",
       "      <td>Books</td>\n",
       "      <td>500</td>\n",
       "      <td>3</td>\n",
       "      <td>1500</td>\n",
       "      <td>9</td>\n",
       "      <td>35</td>\n",
       "      <td>Male</td>\n",
       "      <td>FaceBook Campaign</td>\n",
       "      <td>United States</td>\n",
       "      <td>New York</td>\n",
       "      <td>1500</td>\n",
       "      <td>2023</td>\n",
       "      <td>9</td>\n",
       "    </tr>\n",
       "    <tr>\n",
       "      <th>211784</th>\n",
       "      <td>9255</td>\n",
       "      <td>2023-09-10</td>\n",
       "      <td>Books</td>\n",
       "      <td>500</td>\n",
       "      <td>2</td>\n",
       "      <td>1000</td>\n",
       "      <td>5</td>\n",
       "      <td>48</td>\n",
       "      <td>Male</td>\n",
       "      <td>FaceBook Campaign</td>\n",
       "      <td>Canada</td>\n",
       "      <td>Nova</td>\n",
       "      <td>1000</td>\n",
       "      <td>2023</td>\n",
       "      <td>9</td>\n",
       "    </tr>\n",
       "    <tr>\n",
       "      <th>43132</th>\n",
       "      <td>18173</td>\n",
       "      <td>2023-09-14</td>\n",
       "      <td>Clothing</td>\n",
       "      <td>500</td>\n",
       "      <td>3</td>\n",
       "      <td>1500</td>\n",
       "      <td>8</td>\n",
       "      <td>18</td>\n",
       "      <td>Female</td>\n",
       "      <td>Instagram Campaign</td>\n",
       "      <td>United States</td>\n",
       "      <td>New York</td>\n",
       "      <td>1500</td>\n",
       "      <td>2023</td>\n",
       "      <td>9</td>\n",
       "    </tr>\n",
       "  </tbody>\n",
       "</table>\n",
       "<p>474 rows × 15 columns</p>\n",
       "</div>"
      ],
      "text/plain": [
       "        Customer ID Purchase Date Product Category  Product Price  Quantity  \\\n",
       "177488        40611    2020-01-03            Books            500         3   \n",
       "165016        41449    2020-01-06             Home            500         1   \n",
       "99606         12262    2020-01-21             Home            500         2   \n",
       "144827         6353    2020-01-23         Clothing            500         3   \n",
       "159202        23593    2020-01-27      Electronics            500         2   \n",
       "...             ...           ...              ...            ...       ...   \n",
       "150814        39031    2023-08-30            Books            500         1   \n",
       "152849        17430    2023-09-04            Books            500         4   \n",
       "71706         44992    2023-09-08            Books            500         3   \n",
       "211784         9255    2023-09-10            Books            500         2   \n",
       "43132         18173    2023-09-14         Clothing            500         3   \n",
       "\n",
       "        Total Purchase Amount  NPS  Customer Age   Gender              Source  \\\n",
       "177488                   1500    8             48    Male                 SEM   \n",
       "165016                    500    9             22  Female      Organic Search   \n",
       "99606                    1000    2             42    Male                 SEM   \n",
       "144827                   1500    3             49  Female                 SEM   \n",
       "159202                   1000   10             26  Female   FaceBook Campaign   \n",
       "...                       ...  ...            ...     ...                 ...   \n",
       "150814                    500    5             56  Female  Instagram Campaign   \n",
       "152849                   2000    9             67    Male      Organic Search   \n",
       "71706                    1500    9             35    Male   FaceBook Campaign   \n",
       "211784                   1000    5             48    Male   FaceBook Campaign   \n",
       "43132                    1500    8             18  Female  Instagram Campaign   \n",
       "\n",
       "              Country             State  Calculated Total  Year  Month  \n",
       "177488  United States         Louisiana              1500  2020      1  \n",
       "165016         Canada     New Brunswick               500  2020      1  \n",
       "99606          Canada           Ontario              1000  2020      1  \n",
       "144827  United States           Alabama              1500  2020      1  \n",
       "159202         Canada  British Columbia              1000  2020      1  \n",
       "...               ...               ...               ...   ...    ...  \n",
       "150814  United States           Georgia               500  2023      8  \n",
       "152849  United States           Georgia              2000  2023      9  \n",
       "71706   United States          New York              1500  2023      9  \n",
       "211784         Canada              Nova              1000  2023      9  \n",
       "43132   United States          New York              1500  2023      9  \n",
       "\n",
       "[474 rows x 15 columns]"
      ]
     },
     "execution_count": 15,
     "metadata": {},
     "output_type": "execute_result"
    }
   ],
   "source": [
    "maiores_precos = df.groupby(\"Product Category\")[\"Product Price\"].transform(max)\n",
    "\n",
    "#preço  máximo \n",
    "df_preco_max = df[df[\"Product Price\"] == maiores_precos]\n",
    "\n",
    "df_preco_max"
   ]
  },
  {
   "cell_type": "code",
   "execution_count": 16,
   "metadata": {},
   "outputs": [
    {
     "data": {
      "text/html": [
       "<div>\n",
       "<style scoped>\n",
       "    .dataframe tbody tr th:only-of-type {\n",
       "        vertical-align: middle;\n",
       "    }\n",
       "\n",
       "    .dataframe tbody tr th {\n",
       "        vertical-align: top;\n",
       "    }\n",
       "\n",
       "    .dataframe thead th {\n",
       "        text-align: right;\n",
       "    }\n",
       "</style>\n",
       "<table border=\"1\" class=\"dataframe\">\n",
       "  <thead>\n",
       "    <tr style=\"text-align: right;\">\n",
       "      <th></th>\n",
       "      <th>Customer ID</th>\n",
       "      <th>Purchase Date</th>\n",
       "      <th>Product Category</th>\n",
       "      <th>Product Price</th>\n",
       "      <th>Quantity</th>\n",
       "      <th>Total Purchase Amount</th>\n",
       "      <th>NPS</th>\n",
       "      <th>Customer Age</th>\n",
       "      <th>Gender</th>\n",
       "      <th>Source</th>\n",
       "      <th>Country</th>\n",
       "      <th>State</th>\n",
       "      <th>Calculated Total</th>\n",
       "      <th>Year</th>\n",
       "      <th>Month</th>\n",
       "    </tr>\n",
       "  </thead>\n",
       "  <tbody>\n",
       "    <tr>\n",
       "      <th>58140</th>\n",
       "      <td>44101</td>\n",
       "      <td>2020-01-11</td>\n",
       "      <td>Books</td>\n",
       "      <td>10</td>\n",
       "      <td>1</td>\n",
       "      <td>10</td>\n",
       "      <td>2</td>\n",
       "      <td>22</td>\n",
       "      <td>Female</td>\n",
       "      <td>FaceBook Campaign</td>\n",
       "      <td>United States</td>\n",
       "      <td>New York</td>\n",
       "      <td>10</td>\n",
       "      <td>2020</td>\n",
       "      <td>1</td>\n",
       "    </tr>\n",
       "    <tr>\n",
       "      <th>68577</th>\n",
       "      <td>2964</td>\n",
       "      <td>2020-01-12</td>\n",
       "      <td>Books</td>\n",
       "      <td>10</td>\n",
       "      <td>3</td>\n",
       "      <td>30</td>\n",
       "      <td>9</td>\n",
       "      <td>21</td>\n",
       "      <td>Female</td>\n",
       "      <td>FaceBook Campaign</td>\n",
       "      <td>United States</td>\n",
       "      <td>New York</td>\n",
       "      <td>30</td>\n",
       "      <td>2020</td>\n",
       "      <td>1</td>\n",
       "    </tr>\n",
       "    <tr>\n",
       "      <th>155773</th>\n",
       "      <td>28448</td>\n",
       "      <td>2020-01-15</td>\n",
       "      <td>Books</td>\n",
       "      <td>10</td>\n",
       "      <td>5</td>\n",
       "      <td>50</td>\n",
       "      <td>10</td>\n",
       "      <td>24</td>\n",
       "      <td>Female</td>\n",
       "      <td>SEM</td>\n",
       "      <td>Canada</td>\n",
       "      <td>British Columbia</td>\n",
       "      <td>50</td>\n",
       "      <td>2020</td>\n",
       "      <td>1</td>\n",
       "    </tr>\n",
       "    <tr>\n",
       "      <th>174497</th>\n",
       "      <td>17917</td>\n",
       "      <td>2020-01-16</td>\n",
       "      <td>Books</td>\n",
       "      <td>10</td>\n",
       "      <td>3</td>\n",
       "      <td>30</td>\n",
       "      <td>7</td>\n",
       "      <td>61</td>\n",
       "      <td>Female</td>\n",
       "      <td>Instagram Campaign</td>\n",
       "      <td>Canada</td>\n",
       "      <td>Newfoundland and Labrador</td>\n",
       "      <td>30</td>\n",
       "      <td>2020</td>\n",
       "      <td>1</td>\n",
       "    </tr>\n",
       "    <tr>\n",
       "      <th>81082</th>\n",
       "      <td>11256</td>\n",
       "      <td>2020-01-24</td>\n",
       "      <td>Electronics</td>\n",
       "      <td>10</td>\n",
       "      <td>1</td>\n",
       "      <td>10</td>\n",
       "      <td>4</td>\n",
       "      <td>46</td>\n",
       "      <td>Female</td>\n",
       "      <td>Instagram Campaign</td>\n",
       "      <td>United States</td>\n",
       "      <td>New York</td>\n",
       "      <td>10</td>\n",
       "      <td>2020</td>\n",
       "      <td>1</td>\n",
       "    </tr>\n",
       "    <tr>\n",
       "      <th>...</th>\n",
       "      <td>...</td>\n",
       "      <td>...</td>\n",
       "      <td>...</td>\n",
       "      <td>...</td>\n",
       "      <td>...</td>\n",
       "      <td>...</td>\n",
       "      <td>...</td>\n",
       "      <td>...</td>\n",
       "      <td>...</td>\n",
       "      <td>...</td>\n",
       "      <td>...</td>\n",
       "      <td>...</td>\n",
       "      <td>...</td>\n",
       "      <td>...</td>\n",
       "      <td>...</td>\n",
       "    </tr>\n",
       "    <tr>\n",
       "      <th>13006</th>\n",
       "      <td>28387</td>\n",
       "      <td>2023-08-24</td>\n",
       "      <td>Clothing</td>\n",
       "      <td>10</td>\n",
       "      <td>4</td>\n",
       "      <td>40</td>\n",
       "      <td>7</td>\n",
       "      <td>50</td>\n",
       "      <td>Female</td>\n",
       "      <td>SEM</td>\n",
       "      <td>United States</td>\n",
       "      <td>California</td>\n",
       "      <td>40</td>\n",
       "      <td>2023</td>\n",
       "      <td>8</td>\n",
       "    </tr>\n",
       "    <tr>\n",
       "      <th>99072</th>\n",
       "      <td>35713</td>\n",
       "      <td>2023-08-27</td>\n",
       "      <td>Electronics</td>\n",
       "      <td>10</td>\n",
       "      <td>2</td>\n",
       "      <td>20</td>\n",
       "      <td>5</td>\n",
       "      <td>43</td>\n",
       "      <td>Female</td>\n",
       "      <td>FaceBook Campaign</td>\n",
       "      <td>United States</td>\n",
       "      <td>Alabama</td>\n",
       "      <td>20</td>\n",
       "      <td>2023</td>\n",
       "      <td>8</td>\n",
       "    </tr>\n",
       "    <tr>\n",
       "      <th>217271</th>\n",
       "      <td>36781</td>\n",
       "      <td>2023-08-30</td>\n",
       "      <td>Clothing</td>\n",
       "      <td>10</td>\n",
       "      <td>4</td>\n",
       "      <td>40</td>\n",
       "      <td>7</td>\n",
       "      <td>53</td>\n",
       "      <td>Female</td>\n",
       "      <td>SEM</td>\n",
       "      <td>Canada</td>\n",
       "      <td>Ontario</td>\n",
       "      <td>40</td>\n",
       "      <td>2023</td>\n",
       "      <td>8</td>\n",
       "    </tr>\n",
       "    <tr>\n",
       "      <th>208690</th>\n",
       "      <td>45366</td>\n",
       "      <td>2023-09-06</td>\n",
       "      <td>Electronics</td>\n",
       "      <td>10</td>\n",
       "      <td>2</td>\n",
       "      <td>20</td>\n",
       "      <td>2</td>\n",
       "      <td>46</td>\n",
       "      <td>Male</td>\n",
       "      <td>Instagram Campaign</td>\n",
       "      <td>United States</td>\n",
       "      <td>Indiana</td>\n",
       "      <td>20</td>\n",
       "      <td>2023</td>\n",
       "      <td>9</td>\n",
       "    </tr>\n",
       "    <tr>\n",
       "      <th>224413</th>\n",
       "      <td>40436</td>\n",
       "      <td>2023-09-13</td>\n",
       "      <td>Clothing</td>\n",
       "      <td>10</td>\n",
       "      <td>5</td>\n",
       "      <td>50</td>\n",
       "      <td>7</td>\n",
       "      <td>25</td>\n",
       "      <td>Female</td>\n",
       "      <td>Organic Search</td>\n",
       "      <td>United States</td>\n",
       "      <td>New York</td>\n",
       "      <td>50</td>\n",
       "      <td>2023</td>\n",
       "      <td>9</td>\n",
       "    </tr>\n",
       "  </tbody>\n",
       "</table>\n",
       "<p>493 rows × 15 columns</p>\n",
       "</div>"
      ],
      "text/plain": [
       "        Customer ID Purchase Date Product Category  Product Price  Quantity  \\\n",
       "58140         44101    2020-01-11            Books             10         1   \n",
       "68577          2964    2020-01-12            Books             10         3   \n",
       "155773        28448    2020-01-15            Books             10         5   \n",
       "174497        17917    2020-01-16            Books             10         3   \n",
       "81082         11256    2020-01-24      Electronics             10         1   \n",
       "...             ...           ...              ...            ...       ...   \n",
       "13006         28387    2023-08-24         Clothing             10         4   \n",
       "99072         35713    2023-08-27      Electronics             10         2   \n",
       "217271        36781    2023-08-30         Clothing             10         4   \n",
       "208690        45366    2023-09-06      Electronics             10         2   \n",
       "224413        40436    2023-09-13         Clothing             10         5   \n",
       "\n",
       "        Total Purchase Amount  NPS  Customer Age   Gender              Source  \\\n",
       "58140                      10    2             22  Female   FaceBook Campaign   \n",
       "68577                      30    9             21  Female   FaceBook Campaign   \n",
       "155773                     50   10             24  Female                 SEM   \n",
       "174497                     30    7             61  Female  Instagram Campaign   \n",
       "81082                      10    4             46  Female  Instagram Campaign   \n",
       "...                       ...  ...            ...     ...                 ...   \n",
       "13006                      40    7             50  Female                 SEM   \n",
       "99072                      20    5             43  Female   FaceBook Campaign   \n",
       "217271                     40    7             53  Female                 SEM   \n",
       "208690                     20    2             46    Male  Instagram Campaign   \n",
       "224413                     50    7             25  Female      Organic Search   \n",
       "\n",
       "              Country                      State  Calculated Total  Year  \\\n",
       "58140   United States                   New York                10  2020   \n",
       "68577   United States                   New York                30  2020   \n",
       "155773         Canada           British Columbia                50  2020   \n",
       "174497         Canada  Newfoundland and Labrador                30  2020   \n",
       "81082   United States                   New York                10  2020   \n",
       "...               ...                        ...               ...   ...   \n",
       "13006   United States                 California                40  2023   \n",
       "99072   United States                    Alabama                20  2023   \n",
       "217271         Canada                    Ontario                40  2023   \n",
       "208690  United States                    Indiana                20  2023   \n",
       "224413  United States                   New York                50  2023   \n",
       "\n",
       "        Month  \n",
       "58140       1  \n",
       "68577       1  \n",
       "155773      1  \n",
       "174497      1  \n",
       "81082       1  \n",
       "...       ...  \n",
       "13006       8  \n",
       "99072       8  \n",
       "217271      8  \n",
       "208690      9  \n",
       "224413      9  \n",
       "\n",
       "[493 rows x 15 columns]"
      ]
     },
     "execution_count": 16,
     "metadata": {},
     "output_type": "execute_result"
    }
   ],
   "source": [
    "# Encontre o menor preço para cada produto\n",
    "menores_precos = df.groupby(\"Product Category\")[\"Product Price\"].transform(min)\n",
    "\n",
    "#preço mínimo \n",
    "df_preco_min = df[df[\"Product Price\"] == menores_precos]\n",
    "\n",
    "df_preco_min"
   ]
  },
  {
   "cell_type": "code",
   "execution_count": 17,
   "metadata": {},
   "outputs": [
    {
     "data": {
      "image/png": "[encoded data removed]",
      "text/plain": [
       "<Figure size 720x432 with 1 Axes>"
      ]
     },
     "metadata": {
      "needs_background": "light"
     },
     "output_type": "display_data"
    }
   ],
   "source": [
    "plt.figure(figsize=(10, 6))\n",
    "\n",
    "# Obtenha as categorias de produtos únicas\n",
    "categorias = df['Product Category'].unique()\n",
    "\n",
    "# preços máximos e mínimos para cada categoria\n",
    "precos_maximos = [df[df['Product Category'] == cat]['Product Price'].max() for cat in categorias]\n",
    "precos_minimos = [df[df['Product Category'] == cat]['Product Price'].min() for cat in categorias]\n",
    "\n",
    "# gráfico de barras\n",
    "x = range(len(categorias))\n",
    "bar_max = plt.bar(x, precos_maximos, width=0.4, label='Preço Máximo', color='skyblue', align='center')\n",
    "bar_min = plt.bar(x, precos_minimos, width=0.4, label='Preço Mínimo', color='orange', align='edge')\n",
    "\n",
    "#  rótulos de dados\n",
    "for bar in bar_max:\n",
    "    yval = bar.get_height()\n",
    "    plt.text(bar.get_x() + bar.get_width() / 2, yval + 5, round(yval, 2), ha='center', va='bottom')\n",
    "\n",
    "for bar in bar_min:\n",
    "    yval = bar.get_height()\n",
    "    plt.text(bar.get_x() + bar.get_width() / 2, yval + 5, round(yval, 2), ha='center', va='bottom')\n",
    "\n",
    "#  rótulos e título\n",
    "plt.xlabel('Categoria do Produto')\n",
    "plt.title('Preços Máximos e Mínimos por Categoria de Produto',fontsize=16, fontweight='bold')\n",
    "plt.xticks(x, categorias, rotation=45)\n",
    "plt.legend(loc='upper left', bbox_to_anchor=(1, 1))  # Posiciona a legenda fora da área do gráfico\n",
    "\n",
    "# Remover linhas verticais e a borda do gráfico\n",
    "plt.gca().spines['top'].set_visible(False)\n",
    "plt.gca().spines['right'].set_visible(False)\n",
    "plt.gca().spines['left'].set_visible(False)\n",
    "plt.gca().get_yaxis().set_ticks_position('none')  # Remove os ticks do eixo y\n",
    "plt.gca().yaxis.set_ticklabels([])  # Remove os rótulos do eixo y\n",
    "plt.gca().xaxis.grid(False)  # Remove linhas verticais de grade\n",
    "\n",
    "plt.ylim(0, 1.2 * max(precos_maximos))\n",
    "\n",
    "plt.tight_layout()\n",
    "\n",
    "plt.show()"
   ]
  },
  {
   "cell_type": "markdown",
   "metadata": {},
   "source": [
    "Ambas as categorias de produtos têm preços mínimos de 10 e máximos de 500."
   ]
  },
  {
   "cell_type": "markdown",
   "metadata": {},
   "source": [
    "**Q3-Qual é a categoria de produto mais vendida e menos vendida?Qual a categoria mais e menos cara?**"
   ]
  },
  {
   "cell_type": "code",
   "execution_count": 18,
   "metadata": {
    "colab": {
     "base_uri": "https://localhost:8080/"
    },
    "id": "hagK-imPz5Qi",
    "outputId": "face8b55-3834-49a5-b483-34d2f41f250b"
   },
   "outputs": [
    {
     "name": "stdout",
     "output_type": "stream",
     "text": [
      "Categoria mais vendida: Clothing\n",
      "Categoria menos vendida: Home\n"
     ]
    }
   ],
   "source": [
    "# Agrupando os registros pela categoria do produto e somando as quantidades vendidas\n",
    "vendas_por_categoria = df.groupby('Product Category')['Quantity'].sum()\n",
    "\n",
    "# Encontrando a categoria mais vendida\n",
    "categoria_mais_vendida = vendas_por_categoria.idxmax()\n",
    "\n",
    "# Encontrando a categoria menos vendida\n",
    "categoria_menos_vendida = vendas_por_categoria.idxmin()\n",
    "\n",
    "print(\"Categoria mais vendida:\", categoria_mais_vendida)\n",
    "print(\"Categoria menos vendida:\", categoria_menos_vendida)"
   ]
  },
  {
   "cell_type": "code",
   "execution_count": 19,
   "metadata": {},
   "outputs": [
    {
     "data": {
      "image/png": "[encoded data removed]",
      "text/plain": [
       "<Figure size 720x432 with 1 Axes>"
      ]
     },
     "metadata": {
      "needs_background": "light"
     },
     "output_type": "display_data"
    }
   ],
   "source": [
    "\n",
    "# Criando um gráfico de barras\n",
    "plt.figure(figsize=(10,6))\n",
    "bars = plt.bar(vendas_por_categoria.index, vendas_por_categoria.values, color='skyblue')\n",
    "\n",
    "# Destacando a categoria mais vendida e a menos vendida\n",
    "plt.bar(categoria_mais_vendida, vendas_por_categoria[categoria_mais_vendida], color='green', label='Mais vendida')\n",
    "plt.bar(categoria_menos_vendida, vendas_por_categoria[categoria_menos_vendida], color='red', label='Menos vendida')\n",
    "\n",
    "for bar in bars:\n",
    "    yval = bar.get_height()\n",
    "    plt.text(bar.get_x() + bar.get_width()/2, yval, int(yval), va='bottom', color='black')  # va: vertical alignment\n",
    "\n",
    "plt.title('Vendas por Categoria de Produto', fontsize=16, fontweight='bold',)  # Destaquei o título das barras\n",
    "plt.legend()\n",
    "\n",
    "# Remover linhas verticais e a borda do gráfico\n",
    "plt.gca().spines['top'].set_visible(False)\n",
    "plt.gca().spines['right'].set_visible(False)\n",
    "plt.gca().spines['left'].set_visible(False)\n",
    "plt.gca().get_yaxis().set_ticks_position('none')  # Remove os ticks do eixo y\n",
    "plt.gca().yaxis.set_ticklabels([])  # Remove os rótulos do eixo y\n",
    "plt.gca().xaxis.grid(False)  # Remove linhas verticais de grade\n",
    "\n",
    "plt.show()"
   ]
  },
  {
   "cell_type": "markdown",
   "metadata": {},
   "source": [
    "A categoria de produtos mais vendida é a de roupas, enquanto a menos vendida é a de Homes."
   ]
  },
  {
   "cell_type": "code",
   "execution_count": 20,
   "metadata": {
    "colab": {
     "base_uri": "https://localhost:8080/"
    },
    "id": "M303muPR0QcQ",
    "outputId": "6c2aaa71-3fdc-4aed-b33e-ad83b95a85af"
   },
   "outputs": [
    {
     "name": "stdout",
     "output_type": "stream",
     "text": [
      "Categoria mais cara: Home\n",
      "Categoria menos cara: Clothing\n"
     ]
    }
   ],
   "source": [
    "preco_medio_por_categoria = df.groupby('Product Category')['Product Price'].mean()\n",
    "\n",
    "# Encontrando a categoria mais cara\n",
    "categoria_maior_preco = preco_medio_por_categoria.idxmax()\n",
    "\n",
    "# Encontrando a categoria menos cara\n",
    "categoria_menor_preco = preco_medio_por_categoria.idxmin()\n",
    "\n",
    "print(\"Categoria mais cara:\", categoria_maior_preco)\n",
    "print(\"Categoria menos cara:\", categoria_menor_preco)"
   ]
  },
  {
   "cell_type": "markdown",
   "metadata": {},
   "source": [
    "A categoria mais cara pelo preço médio é a Home e a menos cara são as roupas."
   ]
  },
  {
   "cell_type": "markdown",
   "metadata": {},
   "source": [
    "**Q4-Qual o produto com melhor e pior NPS?**"
   ]
  },
  {
   "cell_type": "code",
   "execution_count": 21,
   "metadata": {
    "colab": {
     "base_uri": "https://localhost:8080/"
    },
    "id": "oEii7fPX0oRc",
    "outputId": "2c2c9ff2-554d-4aef-9780-4a141c662485"
   },
   "outputs": [
    {
     "name": "stdout",
     "output_type": "stream",
     "text": [
      "Produto com a melhor média de NPS: Home\n",
      "Produto com a pior média de NPS: Electronics\n"
     ]
    }
   ],
   "source": [
    "# Calculando a média dos NPS para cada produto\n",
    "media_nps_por_produto = df.groupby('Product Category')['NPS'].mean()\n",
    "\n",
    "# Encontrando o produto com a média mais alta de NPS\n",
    "melhor_nps = media_nps_por_produto.idxmax()\n",
    "\n",
    "# Encontrando o produto com a média mais baixa de NPS\n",
    "pior_nps = media_nps_por_produto.idxmin()\n",
    "\n",
    "print(\"Produto com a melhor média de NPS:\",melhor_nps)\n",
    "print(\"Produto com a pior média de NPS:\", pior_nps)"
   ]
  },
  {
   "cell_type": "markdown",
   "metadata": {},
   "source": [
    "A melhor média de NPS é a Home e a pior são os eletrônicos."
   ]
  },
  {
   "cell_type": "markdown",
   "metadata": {},
   "source": [
    "## Qual o tipo de publico considerando gênero e idade e o canal ideal para vender determinado tipo de produto?"
   ]
  },
  {
   "cell_type": "code",
   "execution_count": 22,
   "metadata": {
    "colab": {
     "base_uri": "https://localhost:8080/"
    },
    "id": "-j-uORYi1eac",
    "outputId": "64658dd8-6f30-42bf-f990-547f5c3dc00e"
   },
   "outputs": [
    {
     "name": "stdout",
     "output_type": "stream",
     "text": [
      "\n",
      "Análise por Categoria de Produto:\n",
      "Customer Age             (18, 30]  (30, 50]  (50, 70]\n",
      "Product Category Gender                              \n",
      "Books            Female      8626     14239     13880\n",
      "                 Male        8828     13796     14058\n",
      "Clothing         Female      8727     14250     14161\n",
      "                 Male        8699     13976     13658\n",
      "Electronics      Female      5755      9411      9460\n",
      "                 Male        5910      9265      9366\n",
      "Home             Female      5878      9358      9290\n",
      "                 Male        5812      9212      9334\n",
      "\n",
      "Análise por Canal de Venda:\n",
      "Source            FaceBook Campaign  Instagram Campaign  Organic Search    SEM\n",
      "Product Category                                                              \n",
      "Books                         19951               20937           13798  20226\n",
      "Clothing                      20111               20908           13984  20049\n",
      "Electronics                   13452               14233            9174  13326\n",
      "Home                          13259               14092            9358  13142\n",
      "\n",
      "Porcentagem de Vendas por Canal de Venda para cada Categoria de Produto:\n",
      "Source            FaceBook Campaign  Instagram Campaign  Organic Search  \\\n",
      "Product Category                                                          \n",
      "Books                     26.632582           27.948793       18.418945   \n",
      "Clothing                  26.796088           27.858018       18.632415   \n",
      "Electronics               26.804822           28.361064       18.280363   \n",
      "Home                      26.597260           28.268239       18.771940   \n",
      "\n",
      "Source                  SEM  \n",
      "Product Category             \n",
      "Books             26.999680  \n",
      "Clothing          26.713479  \n",
      "Electronics       26.553751  \n",
      "Home              26.362560  \n"
     ]
    }
   ],
   "source": [
    "df.columns = df.columns.str.strip()\n",
    "\n",
    "# Verificando se as colunas necessárias estão presentes\n",
    "if 'Customer Age' in df.columns and 'Product Category' in df.columns and 'Gender' in df.columns and 'Source' in df.columns:\n",
    "    # Análise por Categoria de Produto\n",
    "    categoria_por_demografia = df.groupby(['Product Category', 'Gender', pd.cut(df['Customer Age'], bins=[18, 30, 50, 70])]).size().unstack(fill_value=0)\n",
    "    print(\"\\nAnálise por Categoria de Produto:\")\n",
    "    print(categoria_por_demografia)\n",
    "\n",
    "    # Análise por Canal de Venda\n",
    "    canal_por_categoria = df.groupby(['Product Category', 'Source']).size().unstack(fill_value=0)\n",
    "    print(\"\\nAnálise por Canal de Venda:\")\n",
    "    print(canal_por_categoria)\n",
    "\n",
    "    #Estratégias \n",
    "    canal_por_categoria_percentual = canal_por_categoria.div(canal_por_categoria.sum(axis=1), axis=0) * 100\n",
    "    print(\"\\nPorcentagem de Vendas por Canal de Venda para cada Categoria de Produto:\")\n",
    "    print(canal_por_categoria_percentual)\n",
    "else:\n",
    "    print(\"As colunas necessárias não estão presentes no DataFrame.\")"
   ]
  },
  {
   "cell_type": "code",
   "execution_count": 23,
   "metadata": {},
   "outputs": [
    {
     "data": {
      "image/png": "[encoded data removed]",
      "text/plain": [
       "<Figure size 864x576 with 1 Axes>"
      ]
     },
     "metadata": {
      "needs_background": "light"
     },
     "output_type": "display_data"
    }
   ],
   "source": [
    "# Aumenta o tamanho do gráfico\n",
    "ax = categoria_por_demografia.plot(kind='barh', figsize=(12, 8))\n",
    "plt.title('Vendas por Categoria de Produto e Demografia', fontsize=16, fontweight='bold')\n",
    "plt.xlabel('Quantidade de Vendas')\n",
    "plt.legend(title='Faixa Etária')\n",
    "plt.tight_layout()\n",
    "\n",
    "# Oculta o eixo x e suas linhas de grade\n",
    "ax.xaxis.set_visible(False)\n",
    "ax.grid(False, axis='x')\n",
    "\n",
    "# Garanta que a linha do eixo y esteja visível\n",
    "ax.spines['left'].set_visible(False)\n",
    "ax.spines['top'].set_visible(False)\n",
    "ax.spines['right'].set_visible(False)\n",
    "ax.spines['bottom'].set_visible(False)\n",
    "\n",
    "# Adicionar rótulos de dados, com alinhamento\n",
    "for container in ax.containers:\n",
    "    ax.bar_label(container, label_type='edge', padding=5)\n",
    "plt.tight_layout()\n",
    "\n",
    "plt.show()\n"
   ]
  },
  {
   "cell_type": "code",
   "execution_count": 24,
   "metadata": {},
   "outputs": [
    {
     "name": "stdout",
     "output_type": "stream",
     "text": [
      "Análise do público por gênero e idade para cada categoria de produto:\n",
      "                        Customer Age        \n",
      "                                mean min max\n",
      "Product Category Gender                     \n",
      "Books            Female    43.766018  18  70\n",
      "                 Male      43.815032  18  70\n",
      "Clothing         Female    43.760607  18  70\n",
      "                 Male      43.596211  18  70\n",
      "Electronics      Female    43.871777  18  70\n",
      "                 Male      43.796424  18  70\n",
      "Home             Female    43.676008  18  70\n",
      "                 Male      43.838715  18  70\n",
      "\n",
      "Canal ideal para vender cada tipo de produto:\n",
      "   Product Category              Source  Counts\n",
      "1             Books  Instagram Campaign   20937\n",
      "5          Clothing  Instagram Campaign   20908\n",
      "9       Electronics  Instagram Campaign   14233\n",
      "13             Home  Instagram Campaign   14092\n"
     ]
    }
   ],
   "source": [
    "# Analisando o público por gênero e idade para cada categoria de produto\n",
    "publico = df.groupby(['Product Category', 'Gender']).agg({'Customer Age': ['mean', 'min', 'max']})\n",
    "\n",
    "print(\"Análise do público por gênero e idade para cada categoria de produto:\")\n",
    "print(publico)\n",
    "\n",
    "# Analisando o canal ideal para vender cada tipo de produto\n",
    "canal = df.groupby(['Product Category', 'Source']).size().reset_index(name='Counts')\n",
    "\n",
    "# Encontrando o canal com a contagem máxima para cada categoria de produto\n",
    "canal_ideal = canal.loc[canal.groupby('Product Category')['Counts'].idxmax()]\n",
    "\n",
    "print(\"\\nCanal ideal para vender cada tipo de produto:\")\n",
    "print(canal_ideal)"
   ]
  },
  {
   "cell_type": "code",
   "execution_count": 25,
   "metadata": {},
   "outputs": [
    {
     "data": {
      "image/png": "[encoded data removed]",
      "text/plain": [
       "<Figure size 720x432 with 1 Axes>"
      ]
     },
     "metadata": {
      "needs_background": "light"
     },
     "output_type": "display_data"
    }
   ],
   "source": [
    "# Agrupar por fonte e somar as quantidades vendidas\n",
    "vendas_fonte = df.groupby('Source')['Quantity'].sum()\n",
    "\n",
    "# Encontrar a fonte que vendeu mais\n",
    "mais_vendidas = vendas_fonte.idxmax()\n",
    "\n",
    "# Criar o gráfico de barras\n",
    "plt.figure(figsize=(10, 6))\n",
    "\n",
    "# Pintar de verde a coluna que mais vendeu\n",
    "colors = ['skyblue' if source != mais_vendidas else 'green' for source in vendas_fonte.index]\n",
    "\n",
    "vendas_fonte.plot(kind='bar', color=colors)\n",
    "\n",
    "# Adicionar rótulos de dados\n",
    "for i, value in enumerate(vendas_fonte):\n",
    "    plt.text(i, value, str(value), ha='center', va='bottom')\n",
    "\n",
    "plt.title('Vendas por Fonte',fontsize=16, fontweight='bold')\n",
    "plt.xlabel('Fonte')\n",
    "plt.xticks(rotation=45)  # Rotacionar os rótulos do eixo x para facilitar a leitura\n",
    "plt.gca().spines['top'].set_visible(False)\n",
    "plt.gca().spines['right'].set_visible(False)\n",
    "plt.gca().spines['left'].set_visible(False)\n",
    "plt.gca().get_yaxis().set_ticks_position('none')  # Remove os ticks do eixo y\n",
    "plt.gca().yaxis.set_ticklabels([])  # Remove os rótulos do eixo y\n",
    "plt.gca().xaxis.grid(False)  # Remover linhas verticais de grade\n",
    "plt.tight_layout()\n",
    "\n",
    "plt.show()"
   ]
  },
  {
   "cell_type": "markdown",
   "metadata": {},
   "source": [
    "#  Conclusões\n",
    "\n",
    "* Roupas e livros alternam em popularidade ao longo do ano, dependendo da estação. Podemos adotar diferentes estratégias de vendas para cada produto de acordo com a demanda sazonal.\n",
    "* Homens e mulheres acima dos 30 anos são o melhor público para a venda de roupas e livros.\n",
    "* O Instagram lidera como o melhor canal para vender produtos.\n"
   ]
  }
 ],
 "metadata": {
  "colab": {
   "provenance": []
  },
  "kernelspec": {
   "display_name": "Python 3 (ipykernel)",
   "language": "python",
   "name": "python3"
  },
  "language_info": {
   "codemirror_mode": {
    "name": "ipython",
    "version": 3
   },
   "file_extension": ".py",
   "mimetype": "text/x-python",
   "name": "python",
   "nbconvert_exporter": "python",
   "pygments_lexer": "ipython3",
   "version": "3.9.12"
  }
 },
 "nbformat": 4,
 "nbformat_minor": 1
}
